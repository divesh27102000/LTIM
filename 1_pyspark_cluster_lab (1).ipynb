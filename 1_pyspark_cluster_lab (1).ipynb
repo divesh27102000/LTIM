{
  "cells": [
    {
      "cell_type": "code",
      "source": [
        "import pyspark\n",
        "from pyspark.sql import SparkSession\n",
        "from pyspark.sql.functions import *"
      ],
      "metadata": {
        "id": "k9nqCU41AMdW"
      },
      "id": "k9nqCU41AMdW",
      "execution_count": 169,
      "outputs": []
    },
    {
      "cell_type": "code",
      "source": [
        "spark = SparkSession.builder.master(\"local\").appName(\"Search\").config(conf=SparkConf()).getOrCreate()"
      ],
      "metadata": {
        "id": "EfxierfAA8-2"
      },
      "id": "EfxierfAA8-2",
      "execution_count": 170,
      "outputs": []
    },
    {
      "cell_type": "code",
      "source": [
        "from pyspark.sql.types import StructType,StructField, StringType, IntegerType\n",
        "mschema = StructType([ \\\n",
        "    StructField(\"name\",StringType(),True), \\\n",
        "    StructField(\"age\", IntegerType(), True), \\\n",
        "    StructField(\"city\", StringType(), True) \\\n",
        "  ])\n",
        "\n"
      ],
      "metadata": {
        "id": "pGGc_uoJ-Sb7"
      },
      "id": "pGGc_uoJ-Sb7",
      "execution_count": 171,
      "outputs": []
    },
    {
      "cell_type": "code",
      "source": [
        "from google.colab import drive\n",
        "drive.mount('/content/drive')"
      ],
      "metadata": {
        "id": "oDAZOV7vNfcc"
      },
      "id": "oDAZOV7vNfcc",
      "execution_count": null,
      "outputs": []
    },
    {
      "cell_type": "code",
      "source": [
        "mdata=[('jenny',25,'delhi'),\n",
        "('jack',90,'pune'),\n",
        "('jill',45,'delhi'),\n",
        "('john',30,'pune')]"
      ],
      "metadata": {
        "id": "3DTQs7bU3jha"
      },
      "id": "3DTQs7bU3jha",
      "execution_count": 172,
      "outputs": []
    },
    {
      "cell_type": "code",
      "source": [
        "df = spark.createDataFrame(data=mdata,schema=mschema)\n",
        "df.printSchema()\n",
        "df.show(truncate=False)"
      ],
      "metadata": {
        "id": "pMnfdqK654RM",
        "outputId": "7a14d888-604e-4367-ef0c-91a31ac0c531",
        "colab": {
          "base_uri": "https://localhost:8080/"
        }
      },
      "id": "pMnfdqK654RM",
      "execution_count": 173,
      "outputs": [
        {
          "output_type": "stream",
          "name": "stdout",
          "text": [
            "root\n",
            " |-- name: string (nullable = true)\n",
            " |-- age: integer (nullable = true)\n",
            " |-- city: string (nullable = true)\n",
            "\n",
            "+-----+---+-----+\n",
            "|name |age|city |\n",
            "+-----+---+-----+\n",
            "|jenny|25 |delhi|\n",
            "|jack |90 |pune |\n",
            "|jill |45 |delhi|\n",
            "|john |30 |pune |\n",
            "+-----+---+-----+\n",
            "\n"
          ]
        }
      ]
    },
    {
      "cell_type": "code",
      "source": [
        "pdata=[(101,'Alice','Smith',30),\n",
        "(102,'Bob','Johnson',45),\n",
        "(103,'Charlie','Williams',50)]"
      ],
      "metadata": {
        "id": "KnCL1C_g6S4F"
      },
      "id": "KnCL1C_g6S4F",
      "execution_count": 174,
      "outputs": []
    },
    {
      "cell_type": "code",
      "source": [
        "pschema = StructType([ \\\n",
        "    StructField(\"Pid\",IntegerType(),True), \\\n",
        "    StructField(\"Fname\", StringType(), True), \\\n",
        "    StructField(\"Lname\", StringType(), True),\\\n",
        "    StructField(\"age\", IntegerType(), True)\\\n",
        "  ])"
      ],
      "metadata": {
        "id": "RJaPx3B7C4t6"
      },
      "id": "RJaPx3B7C4t6",
      "execution_count": 175,
      "outputs": []
    },
    {
      "cell_type": "code",
      "source": [
        "df1 = spark.createDataFrame(data=pdata,schema=pschema)\n",
        "df1.printSchema()\n",
        "df1.show(truncate=False)"
      ],
      "metadata": {
        "id": "2M9jrI5uDVBG",
        "outputId": "1f32941b-99e7-4473-a2a4-73e021ac3777",
        "colab": {
          "base_uri": "https://localhost:8080/"
        }
      },
      "id": "2M9jrI5uDVBG",
      "execution_count": 176,
      "outputs": [
        {
          "output_type": "stream",
          "name": "stdout",
          "text": [
            "root\n",
            " |-- Pid: integer (nullable = true)\n",
            " |-- Fname: string (nullable = true)\n",
            " |-- Lname: string (nullable = true)\n",
            " |-- age: integer (nullable = true)\n",
            "\n",
            "+---+-------+--------+---+\n",
            "|Pid|Fname  |Lname   |age|\n",
            "+---+-------+--------+---+\n",
            "|101|Alice  |Smith   |30 |\n",
            "|102|Bob    |Johnson |45 |\n",
            "|103|Charlie|Williams|50 |\n",
            "+---+-------+--------+---+\n",
            "\n"
          ]
        }
      ]
    },
    {
      "cell_type": "code",
      "source": [
        "vdata=[(1,101,15),\n",
        "(2,101,30),\n",
        "(3,102,45),\n",
        "(4,102,30),\n",
        "(5,103,60),\n",
        "(6,103,50)]"
      ],
      "metadata": {
        "id": "P20RgoT4DXY5"
      },
      "id": "P20RgoT4DXY5",
      "execution_count": 177,
      "outputs": []
    },
    {
      "cell_type": "code",
      "source": [
        "vschema = StructType([ \\\n",
        "    StructField(\"Vid\",IntegerType(),True), \\\n",
        "    StructField(\"Pid\", IntegerType(), True), \\\n",
        "    StructField(\"Time\", IntegerType(), True)\\\n",
        "  ])"
      ],
      "metadata": {
        "id": "czhbRxgsD19B"
      },
      "id": "czhbRxgsD19B",
      "execution_count": 178,
      "outputs": []
    },
    {
      "cell_type": "code",
      "source": [
        "df2 = spark.createDataFrame(data=vdata,schema=vschema)\n",
        "df2.printSchema()\n",
        "df2.show(truncate=False)"
      ],
      "metadata": {
        "id": "QnynSFw2_FFl",
        "outputId": "8e2204d8-9084-455c-e879-a1d66f306953",
        "colab": {
          "base_uri": "https://localhost:8080/"
        }
      },
      "id": "QnynSFw2_FFl",
      "execution_count": 179,
      "outputs": [
        {
          "output_type": "stream",
          "name": "stdout",
          "text": [
            "root\n",
            " |-- Vid: integer (nullable = true)\n",
            " |-- Pid: integer (nullable = true)\n",
            " |-- Time: integer (nullable = true)\n",
            "\n",
            "+---+---+----+\n",
            "|Vid|Pid|Time|\n",
            "+---+---+----+\n",
            "|1  |101|15  |\n",
            "|2  |101|30  |\n",
            "|3  |102|45  |\n",
            "|4  |102|30  |\n",
            "|5  |103|60  |\n",
            "|6  |103|50  |\n",
            "+---+---+----+\n",
            "\n"
          ]
        }
      ]
    },
    {
      "cell_type": "code",
      "source": [
        "df1.show()\n",
        "df2.show()"
      ],
      "metadata": {
        "id": "nXqts9R0_Twb",
        "outputId": "27404829-dc32-45de-86d3-5868e91289a4",
        "colab": {
          "base_uri": "https://localhost:8080/"
        }
      },
      "id": "nXqts9R0_Twb",
      "execution_count": 180,
      "outputs": [
        {
          "output_type": "stream",
          "name": "stdout",
          "text": [
            "+---+-------+--------+---+\n",
            "|Pid|  Fname|   Lname|age|\n",
            "+---+-------+--------+---+\n",
            "|101|  Alice|   Smith| 30|\n",
            "|102|    Bob| Johnson| 45|\n",
            "|103|Charlie|Williams| 50|\n",
            "+---+-------+--------+---+\n",
            "\n",
            "+---+---+----+\n",
            "|Vid|Pid|Time|\n",
            "+---+---+----+\n",
            "|  1|101|  15|\n",
            "|  2|101|  30|\n",
            "|  3|102|  45|\n",
            "|  4|102|  30|\n",
            "|  5|103|  60|\n",
            "|  6|103|  50|\n",
            "+---+---+----+\n",
            "\n"
          ]
        }
      ]
    },
    {
      "cell_type": "code",
      "source": [
        "a=df1.join(df2,on=\"pid\",how=\"left\")\n",
        "a.show()"
      ],
      "metadata": {
        "id": "5NyZnvuhAJmT",
        "outputId": "b5a9ad46-5bcb-4b3c-9cda-ff5fb9f99e84",
        "colab": {
          "base_uri": "https://localhost:8080/"
        }
      },
      "id": "5NyZnvuhAJmT",
      "execution_count": 181,
      "outputs": [
        {
          "output_type": "stream",
          "name": "stdout",
          "text": [
            "+---+-------+--------+---+---+----+\n",
            "|Pid|  Fname|   Lname|age|Vid|Time|\n",
            "+---+-------+--------+---+---+----+\n",
            "|101|  Alice|   Smith| 30|  2|  30|\n",
            "|101|  Alice|   Smith| 30|  1|  15|\n",
            "|103|Charlie|Williams| 50|  6|  50|\n",
            "|103|Charlie|Williams| 50|  5|  60|\n",
            "|102|    Bob| Johnson| 45|  4|  30|\n",
            "|102|    Bob| Johnson| 45|  3|  45|\n",
            "+---+-------+--------+---+---+----+\n",
            "\n"
          ]
        }
      ]
    },
    {
      "cell_type": "code",
      "source": [
        "# from pyspark.sql.functions import concat, col,lit\n",
        "# # from pyspark.sql.functions import col as ps"
      ],
      "metadata": {
        "id": "a9tRaHAcF3pP"
      },
      "id": "a9tRaHAcF3pP",
      "execution_count": 182,
      "outputs": []
    },
    {
      "cell_type": "code",
      "source": [
        "a=a.withColumn(\"fullname\",concat_ws(\" \",col(\"Fname\"),col(\"Lname\")))"
      ],
      "metadata": {
        "id": "TjZxP2FuAcSX"
      },
      "id": "TjZxP2FuAcSX",
      "execution_count": 198,
      "outputs": []
    },
    {
      "cell_type": "code",
      "source": [
        "#a=a.withColumn(\"fullname\",concat(a['Fname'],lit(\" \"),a['Lname']))"
      ],
      "metadata": {
        "id": "Ep6VLbs6FSmO"
      },
      "id": "Ep6VLbs6FSmO",
      "execution_count": 196,
      "outputs": []
    },
    {
      "cell_type": "code",
      "source": [
        "a.show()"
      ],
      "metadata": {
        "id": "7nDBlvYJH4zq",
        "outputId": "944a7475-9f5b-4ca6-cba0-3f1ea9d91e59",
        "colab": {
          "base_uri": "https://localhost:8080/"
        }
      },
      "id": "7nDBlvYJH4zq",
      "execution_count": 199,
      "outputs": [
        {
          "output_type": "stream",
          "name": "stdout",
          "text": [
            "+---+-------+--------+---+---+----+----------------+\n",
            "|Pid|  Fname|   Lname|age|Vid|Time|        fullname|\n",
            "+---+-------+--------+---+---+----+----------------+\n",
            "|101|  Alice|   Smith| 30|  2|  30|     Alice Smith|\n",
            "|101|  Alice|   Smith| 30|  1|  15|     Alice Smith|\n",
            "|103|Charlie|Williams| 50|  6|  50|Charlie Williams|\n",
            "|103|Charlie|Williams| 50|  5|  60|Charlie Williams|\n",
            "|102|    Bob| Johnson| 45|  4|  30|     Bob Johnson|\n",
            "|102|    Bob| Johnson| 45|  3|  45|     Bob Johnson|\n",
            "+---+-------+--------+---+---+----+----------------+\n",
            "\n"
          ]
        }
      ]
    },
    {
      "cell_type": "code",
      "source": [
        "a.orderBy(a['Vid'].desc()).show()"
      ],
      "metadata": {
        "id": "nfPrTNEIH6jw",
        "outputId": "e7f3d6de-9687-41c4-fb27-7a567e8686f9",
        "colab": {
          "base_uri": "https://localhost:8080/"
        }
      },
      "id": "nfPrTNEIH6jw",
      "execution_count": 186,
      "outputs": [
        {
          "output_type": "stream",
          "name": "stdout",
          "text": [
            "+---+-------+--------+---+---+----+----------------+\n",
            "|Pid|  Fname|   Lname|age|Vid|Time|        fullname|\n",
            "+---+-------+--------+---+---+----+----------------+\n",
            "|103|Charlie|Williams| 50|  6|  50|Charlie Williams|\n",
            "|103|Charlie|Williams| 50|  5|  60|Charlie Williams|\n",
            "|102|    Bob| Johnson| 45|  4|  30|     Bob Johnson|\n",
            "|102|    Bob| Johnson| 45|  3|  45|     Bob Johnson|\n",
            "|101|  Alice|   Smith| 30|  2|  30|     Alice Smith|\n",
            "|101|  Alice|   Smith| 30|  1|  15|     Alice Smith|\n",
            "+---+-------+--------+---+---+----+----------------+\n",
            "\n"
          ]
        }
      ]
    },
    {
      "cell_type": "code",
      "source": [
        "# a.filter((a['age']>40) & (col(\"Time\")>=20)).show()\n",
        "# a.agg(sum('Time'))"
      ],
      "metadata": {
        "id": "gB-blNu_ZOKv"
      },
      "id": "gB-blNu_ZOKv",
      "execution_count": 167,
      "outputs": []
    },
    {
      "cell_type": "code",
      "source": [
        "a.agg(sum(\"Time\")).show()"
      ],
      "metadata": {
        "id": "SmSs3IdiJTlE",
        "outputId": "badaf2c5-facd-48fb-abd9-9f585b461054",
        "colab": {
          "base_uri": "https://localhost:8080/"
        }
      },
      "id": "SmSs3IdiJTlE",
      "execution_count": 189,
      "outputs": [
        {
          "output_type": "stream",
          "name": "stdout",
          "text": [
            "+---------+\n",
            "|sum(Time)|\n",
            "+---------+\n",
            "|      230|\n",
            "+---------+\n",
            "\n"
          ]
        }
      ]
    },
    {
      "cell_type": "code",
      "source": [
        "a.createOrReplaceTempView(\"a\")"
      ],
      "metadata": {
        "id": "aoAWwAI5idZL"
      },
      "id": "aoAWwAI5idZL",
      "execution_count": 129,
      "outputs": []
    },
    {
      "cell_type": "code",
      "source": [
        "b=spark.sql(\"select * from a\")"
      ],
      "metadata": {
        "id": "fcgXLSthf5E9"
      },
      "id": "fcgXLSthf5E9",
      "execution_count": 134,
      "outputs": []
    },
    {
      "cell_type": "code",
      "source": [
        "b"
      ],
      "metadata": {
        "id": "YC_NVjhjhI-E",
        "outputId": "6d560f1c-cf8c-4b15-d175-c23e4017ee90",
        "colab": {
          "base_uri": "https://localhost:8080/"
        }
      },
      "id": "YC_NVjhjhI-E",
      "execution_count": 155,
      "outputs": [
        {
          "output_type": "execute_result",
          "data": {
            "text/plain": [
              "DataFrame[Pid: int, Vid: int, Time: int, Fname: string, Lname: string, age: int, fullname: string]"
            ]
          },
          "metadata": {},
          "execution_count": 155
        }
      ]
    },
    {
      "cell_type": "code",
      "source": [
        "c=spark.sql(\"select Fname, Lname,Pid,age,fullname from a where group By Fname, Lname,Pid,age,fullname\")"
      ],
      "metadata": {
        "id": "gc4UcML8in3m"
      },
      "id": "gc4UcML8in3m",
      "execution_count": 137,
      "outputs": []
    },
    {
      "cell_type": "code",
      "source": [
        "c.show()"
      ],
      "metadata": {
        "id": "yc8u4_Xp6gYV",
        "outputId": "53984e9e-7a2e-43fe-b4f1-2b0266d0fec5",
        "colab": {
          "base_uri": "https://localhost:8080/"
        }
      },
      "id": "yc8u4_Xp6gYV",
      "execution_count": 138,
      "outputs": [
        {
          "output_type": "stream",
          "name": "stdout",
          "text": [
            "+-------+--------+---+---+----------------+\n",
            "|  Fname|   Lname|Pid|age|        fullname|\n",
            "+-------+--------+---+---+----------------+\n",
            "|  Alice|   Smith|101| 30|     Alice Smith|\n",
            "|    Bob| Johnson|102| 45|     Bob Johnson|\n",
            "|Charlie|Williams|103| 50|Charlie Williams|\n",
            "+-------+--------+---+---+----------------+\n",
            "\n"
          ]
        }
      ]
    },
    {
      "cell_type": "code",
      "source": [
        "d=c.select(c['Fname'],c['age'])"
      ],
      "metadata": {
        "id": "PwhutTGMjHge"
      },
      "id": "PwhutTGMjHge",
      "execution_count": 141,
      "outputs": []
    },
    {
      "cell_type": "code",
      "source": [
        "c.printSchema()\n",
        "#f = a.select(sum('age')).collect()[0][0]"
      ],
      "metadata": {
        "id": "0tGm8vsEE1Pd",
        "outputId": "0234ddb7-dc1d-4042-9901-527ee45ab3da",
        "colab": {
          "base_uri": "https://localhost:8080/"
        }
      },
      "id": "0tGm8vsEE1Pd",
      "execution_count": 160,
      "outputs": [
        {
          "output_type": "stream",
          "name": "stdout",
          "text": [
            "root\n",
            " |-- Fname: string (nullable = true)\n",
            " |-- Lname: string (nullable = true)\n",
            " |-- Pid: integer (nullable = true)\n",
            " |-- age: integer (nullable = true)\n",
            " |-- fullname: string (nullable = true)\n",
            "\n"
          ]
        }
      ]
    },
    {
      "cell_type": "code",
      "source": [
        "d.show()"
      ],
      "metadata": {
        "id": "uiSbuKDw6udf",
        "outputId": "961ba08b-1d7b-4814-f9d0-e0fb957b2ec5",
        "colab": {
          "base_uri": "https://localhost:8080/"
        }
      },
      "id": "uiSbuKDw6udf",
      "execution_count": 143,
      "outputs": [
        {
          "output_type": "stream",
          "name": "stdout",
          "text": [
            "+-------+---+\n",
            "|  Fname|age|\n",
            "+-------+---+\n",
            "|  Alice| 30|\n",
            "|    Bob| 45|\n",
            "|Charlie| 50|\n",
            "+-------+---+\n",
            "\n"
          ]
        }
      ]
    },
    {
      "cell_type": "code",
      "source": [
        "spark.sql(\"select Time/age as backchodi,Fname from a\").show()"
      ],
      "metadata": {
        "id": "H8YL-M8hkwR6",
        "outputId": "79fe52b9-6e7d-49d8-cd97-9b04f172b01b",
        "colab": {
          "base_uri": "https://localhost:8080/"
        }
      },
      "id": "H8YL-M8hkwR6",
      "execution_count": 111,
      "outputs": [
        {
          "output_type": "stream",
          "name": "stdout",
          "text": [
            "+------------------+-------+\n",
            "|         backchodi|  Fname|\n",
            "+------------------+-------+\n",
            "|               0.5|  Alice|\n",
            "|               1.0|  Alice|\n",
            "|               1.0|    Bob|\n",
            "|               1.2|Charlie|\n",
            "|               1.0|Charlie|\n",
            "|0.6666666666666666|    Bob|\n",
            "+------------------+-------+\n",
            "\n"
          ]
        }
      ]
    },
    {
      "cell_type": "code",
      "source": [],
      "metadata": {
        "id": "43FMGKVTndtr"
      },
      "id": "43FMGKVTndtr",
      "execution_count": null,
      "outputs": []
    }
  ],
  "metadata": {
    "kernelspec": {
      "display_name": "Python 3",
      "language": "python",
      "name": "python3"
    },
    "language_info": {
      "codemirror_mode": {
        "name": "ipython",
        "version": 3
      },
      "file_extension": ".py",
      "mimetype": "text/x-python",
      "name": "python",
      "nbconvert_exporter": "python",
      "pygments_lexer": "ipython3",
      "version": "3.8.6"
    },
    "colab": {
      "provenance": []
    }
  },
  "nbformat": 4,
  "nbformat_minor": 5
}